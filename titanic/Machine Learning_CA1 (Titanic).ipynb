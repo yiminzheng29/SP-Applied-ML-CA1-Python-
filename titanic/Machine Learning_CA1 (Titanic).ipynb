{
 "cells": [
  {
   "cell_type": "code",
   "execution_count": 1,
   "id": "001a5597",
   "metadata": {},
   "outputs": [],
   "source": [
    "# shift-tab to show docstring: highlight and shift-tab: format\n",
    "#?zip()\n",
    "#%lsmagic\n",
    "# Suppress Future Warnings\n",
    "import warnings\n",
    "warnings.simplefilter(action='ignore', category=FutureWarning)\n"
   ]
  },
  {
   "cell_type": "markdown",
   "id": "4af420d2",
   "metadata": {},
   "source": [
    "# Data Importing"
   ]
  },
  {
   "cell_type": "code",
   "execution_count": 2,
   "id": "dc8e6238",
   "metadata": {},
   "outputs": [
    {
     "name": "stdout",
     "output_type": "stream",
     "text": [
      "************************\n",
      "        Versions        \n",
      "************************\n",
      "Scikit-learn version=0.24.1\n",
      "Numpy version=1.20.1\n",
      "Pandas version=1.2.4\n",
      "Matplotlib version=3.3.4\n",
      "Python version=3.8.8\n"
     ]
    }
   ],
   "source": [
    "#importing all applicable libraries\n",
    "import numpy as np\n",
    "import pandas as pd\n",
    "import seaborn as sns\n",
    "import sklearn\n",
    "import matplotlib\n",
    "from sklearn.model_selection import train_test_split, RandomizedSearchCV\n",
    "from sklearn.linear_model import LogisticRegression\n",
    "from sklearn.ensemble import RandomForestClassifier\n",
    "from sklearn.neighbors import KNeighborsClassifier\n",
    "from sklearn.tree import DecisionTreeClassifier\n",
    "from sklearn.naive_bayes import GaussianNB\n",
    "from sklearn.svm import SVC, LinearSVC\n",
    "from sklearn import linear_model\n",
    "from sklearn.metrics import accuracy_score, confusion_matrix, roc_curve, roc_auc_score\n",
    "from sklearn.model_selection import cross_val_score, GridSearchCV, cross_val_predict\n",
    "from sklearn.inspection import permutation_importance\n",
    "from sklearn.dummy import DummyClassifier\n",
    "import matplotlib.pyplot as plt\n",
    "import platform\n",
    "\n",
    "message=\"        Versions        \"\n",
    "print(\"*\"*len(message))\n",
    "print(message)\n",
    "print(\"*\"*len(message))\n",
    "print(\"Scikit-learn version={}\".format(sklearn.__version__))\n",
    "print(\"Numpy version={}\".format(np.__version__))\n",
    "print(\"Pandas version={}\".format(pd.__version__))\n",
    "print(\"Matplotlib version={}\".format(matplotlib.__version__))\n",
    "print(\"Python version={}\".format(platform.python_version()))"
   ]
  },
  {
   "cell_type": "code",
   "execution_count": 3,
   "id": "01bc5098",
   "metadata": {},
   "outputs": [
    {
     "data": {
      "text/html": [
       "<div>\n",
       "<style scoped>\n",
       "    .dataframe tbody tr th:only-of-type {\n",
       "        vertical-align: middle;\n",
       "    }\n",
       "\n",
       "    .dataframe tbody tr th {\n",
       "        vertical-align: top;\n",
       "    }\n",
       "\n",
       "    .dataframe thead th {\n",
       "        text-align: right;\n",
       "    }\n",
       "</style>\n",
       "<table border=\"1\" class=\"dataframe\">\n",
       "  <thead>\n",
       "    <tr style=\"text-align: right;\">\n",
       "      <th></th>\n",
       "      <th>PassengerId</th>\n",
       "      <th>Survived</th>\n",
       "      <th>Pclass</th>\n",
       "      <th>Name</th>\n",
       "      <th>Sex</th>\n",
       "      <th>Age</th>\n",
       "      <th>SibSp</th>\n",
       "      <th>Parch</th>\n",
       "      <th>Ticket</th>\n",
       "      <th>Fare</th>\n",
       "      <th>Cabin</th>\n",
       "      <th>Embarked</th>\n",
       "    </tr>\n",
       "  </thead>\n",
       "  <tbody>\n",
       "    <tr>\n",
       "      <th>0</th>\n",
       "      <td>1</td>\n",
       "      <td>0</td>\n",
       "      <td>3</td>\n",
       "      <td>Braund, Mr. Owen Harris</td>\n",
       "      <td>male</td>\n",
       "      <td>22.0</td>\n",
       "      <td>1</td>\n",
       "      <td>0</td>\n",
       "      <td>A/5 21171</td>\n",
       "      <td>7.2500</td>\n",
       "      <td>NaN</td>\n",
       "      <td>S</td>\n",
       "    </tr>\n",
       "    <tr>\n",
       "      <th>1</th>\n",
       "      <td>2</td>\n",
       "      <td>1</td>\n",
       "      <td>1</td>\n",
       "      <td>Cumings, Mrs. John Bradley (Florence Briggs Th...</td>\n",
       "      <td>female</td>\n",
       "      <td>38.0</td>\n",
       "      <td>1</td>\n",
       "      <td>0</td>\n",
       "      <td>PC 17599</td>\n",
       "      <td>71.2833</td>\n",
       "      <td>C85</td>\n",
       "      <td>C</td>\n",
       "    </tr>\n",
       "    <tr>\n",
       "      <th>2</th>\n",
       "      <td>3</td>\n",
       "      <td>1</td>\n",
       "      <td>3</td>\n",
       "      <td>Heikkinen, Miss. Laina</td>\n",
       "      <td>female</td>\n",
       "      <td>26.0</td>\n",
       "      <td>0</td>\n",
       "      <td>0</td>\n",
       "      <td>STON/O2. 3101282</td>\n",
       "      <td>7.9250</td>\n",
       "      <td>NaN</td>\n",
       "      <td>S</td>\n",
       "    </tr>\n",
       "    <tr>\n",
       "      <th>3</th>\n",
       "      <td>4</td>\n",
       "      <td>1</td>\n",
       "      <td>1</td>\n",
       "      <td>Futrelle, Mrs. Jacques Heath (Lily May Peel)</td>\n",
       "      <td>female</td>\n",
       "      <td>35.0</td>\n",
       "      <td>1</td>\n",
       "      <td>0</td>\n",
       "      <td>113803</td>\n",
       "      <td>53.1000</td>\n",
       "      <td>C123</td>\n",
       "      <td>S</td>\n",
       "    </tr>\n",
       "    <tr>\n",
       "      <th>4</th>\n",
       "      <td>5</td>\n",
       "      <td>0</td>\n",
       "      <td>3</td>\n",
       "      <td>Allen, Mr. William Henry</td>\n",
       "      <td>male</td>\n",
       "      <td>35.0</td>\n",
       "      <td>0</td>\n",
       "      <td>0</td>\n",
       "      <td>373450</td>\n",
       "      <td>8.0500</td>\n",
       "      <td>NaN</td>\n",
       "      <td>S</td>\n",
       "    </tr>\n",
       "  </tbody>\n",
       "</table>\n",
       "</div>"
      ],
      "text/plain": [
       "   PassengerId  Survived  Pclass  \\\n",
       "0            1         0       3   \n",
       "1            2         1       1   \n",
       "2            3         1       3   \n",
       "3            4         1       1   \n",
       "4            5         0       3   \n",
       "\n",
       "                                                Name     Sex   Age  SibSp  \\\n",
       "0                            Braund, Mr. Owen Harris    male  22.0      1   \n",
       "1  Cumings, Mrs. John Bradley (Florence Briggs Th...  female  38.0      1   \n",
       "2                             Heikkinen, Miss. Laina  female  26.0      0   \n",
       "3       Futrelle, Mrs. Jacques Heath (Lily May Peel)  female  35.0      1   \n",
       "4                           Allen, Mr. William Henry    male  35.0      0   \n",
       "\n",
       "   Parch            Ticket     Fare Cabin Embarked  \n",
       "0      0         A/5 21171   7.2500   NaN        S  \n",
       "1      0          PC 17599  71.2833   C85        C  \n",
       "2      0  STON/O2. 3101282   7.9250   NaN        S  \n",
       "3      0            113803  53.1000  C123        S  \n",
       "4      0            373450   8.0500   NaN        S  "
      ]
     },
     "execution_count": 3,
     "metadata": {},
     "output_type": "execute_result"
    }
   ],
   "source": [
    "#importing CSV file into the terminal\n",
    "\n",
    "traindf = pd.read_csv('/Users/Yimin/Documents/SP/Applied Machine Learning/CA1/titanic/train.csv')\n",
    "testdf = pd.read_csv('/Users/Yimin/Documents/SP/Applied Machine Learning/CA1/titanic/test.csv')\n",
    "\n",
    "#Preview of train dataset provided by kaggle\n",
    "traindf.head()\n"
   ]
  },
  {
   "cell_type": "code",
   "execution_count": 4,
   "id": "93b494ff",
   "metadata": {},
   "outputs": [
    {
     "data": {
      "text/html": [
       "<div>\n",
       "<style scoped>\n",
       "    .dataframe tbody tr th:only-of-type {\n",
       "        vertical-align: middle;\n",
       "    }\n",
       "\n",
       "    .dataframe tbody tr th {\n",
       "        vertical-align: top;\n",
       "    }\n",
       "\n",
       "    .dataframe thead th {\n",
       "        text-align: right;\n",
       "    }\n",
       "</style>\n",
       "<table border=\"1\" class=\"dataframe\">\n",
       "  <thead>\n",
       "    <tr style=\"text-align: right;\">\n",
       "      <th></th>\n",
       "      <th>PassengerId</th>\n",
       "      <th>Pclass</th>\n",
       "      <th>Name</th>\n",
       "      <th>Sex</th>\n",
       "      <th>Age</th>\n",
       "      <th>SibSp</th>\n",
       "      <th>Parch</th>\n",
       "      <th>Ticket</th>\n",
       "      <th>Fare</th>\n",
       "      <th>Cabin</th>\n",
       "      <th>Embarked</th>\n",
       "    </tr>\n",
       "  </thead>\n",
       "  <tbody>\n",
       "    <tr>\n",
       "      <th>0</th>\n",
       "      <td>892</td>\n",
       "      <td>3</td>\n",
       "      <td>Kelly, Mr. James</td>\n",
       "      <td>male</td>\n",
       "      <td>34.5</td>\n",
       "      <td>0</td>\n",
       "      <td>0</td>\n",
       "      <td>330911</td>\n",
       "      <td>7.8292</td>\n",
       "      <td>NaN</td>\n",
       "      <td>Q</td>\n",
       "    </tr>\n",
       "    <tr>\n",
       "      <th>1</th>\n",
       "      <td>893</td>\n",
       "      <td>3</td>\n",
       "      <td>Wilkes, Mrs. James (Ellen Needs)</td>\n",
       "      <td>female</td>\n",
       "      <td>47.0</td>\n",
       "      <td>1</td>\n",
       "      <td>0</td>\n",
       "      <td>363272</td>\n",
       "      <td>7.0000</td>\n",
       "      <td>NaN</td>\n",
       "      <td>S</td>\n",
       "    </tr>\n",
       "    <tr>\n",
       "      <th>2</th>\n",
       "      <td>894</td>\n",
       "      <td>2</td>\n",
       "      <td>Myles, Mr. Thomas Francis</td>\n",
       "      <td>male</td>\n",
       "      <td>62.0</td>\n",
       "      <td>0</td>\n",
       "      <td>0</td>\n",
       "      <td>240276</td>\n",
       "      <td>9.6875</td>\n",
       "      <td>NaN</td>\n",
       "      <td>Q</td>\n",
       "    </tr>\n",
       "    <tr>\n",
       "      <th>3</th>\n",
       "      <td>895</td>\n",
       "      <td>3</td>\n",
       "      <td>Wirz, Mr. Albert</td>\n",
       "      <td>male</td>\n",
       "      <td>27.0</td>\n",
       "      <td>0</td>\n",
       "      <td>0</td>\n",
       "      <td>315154</td>\n",
       "      <td>8.6625</td>\n",
       "      <td>NaN</td>\n",
       "      <td>S</td>\n",
       "    </tr>\n",
       "    <tr>\n",
       "      <th>4</th>\n",
       "      <td>896</td>\n",
       "      <td>3</td>\n",
       "      <td>Hirvonen, Mrs. Alexander (Helga E Lindqvist)</td>\n",
       "      <td>female</td>\n",
       "      <td>22.0</td>\n",
       "      <td>1</td>\n",
       "      <td>1</td>\n",
       "      <td>3101298</td>\n",
       "      <td>12.2875</td>\n",
       "      <td>NaN</td>\n",
       "      <td>S</td>\n",
       "    </tr>\n",
       "  </tbody>\n",
       "</table>\n",
       "</div>"
      ],
      "text/plain": [
       "   PassengerId  Pclass                                          Name     Sex  \\\n",
       "0          892       3                              Kelly, Mr. James    male   \n",
       "1          893       3              Wilkes, Mrs. James (Ellen Needs)  female   \n",
       "2          894       2                     Myles, Mr. Thomas Francis    male   \n",
       "3          895       3                              Wirz, Mr. Albert    male   \n",
       "4          896       3  Hirvonen, Mrs. Alexander (Helga E Lindqvist)  female   \n",
       "\n",
       "    Age  SibSp  Parch   Ticket     Fare Cabin Embarked  \n",
       "0  34.5      0      0   330911   7.8292   NaN        Q  \n",
       "1  47.0      1      0   363272   7.0000   NaN        S  \n",
       "2  62.0      0      0   240276   9.6875   NaN        Q  \n",
       "3  27.0      0      0   315154   8.6625   NaN        S  \n",
       "4  22.0      1      1  3101298  12.2875   NaN        S  "
      ]
     },
     "execution_count": 4,
     "metadata": {},
     "output_type": "execute_result"
    }
   ],
   "source": [
    "testdf.head()"
   ]
  },
  {
   "cell_type": "code",
   "execution_count": 5,
   "id": "4c890680",
   "metadata": {},
   "outputs": [
    {
     "name": "stdout",
     "output_type": "stream",
     "text": [
      "*****************************************************\n",
      "Summary of various features provided in the dataset\n",
      "*****************************************************\n",
      "PassengerId: ID as generated in sequence in the dataset\n",
      "Survived: Passengers whom survived = 1, Passengers whom did not survive = 0\n",
      "Pclass: Passenger class in 1, 2 or 3\n",
      "Name: Name of passenger\n",
      "Sex: Gender of passenger\n",
      "Age: Age of passenger\n",
      "SibSp: Number of siblings or spouse onboard with the passenger\n",
      "Parch: Number of parents or children onboard with the passenger\n",
      "Ticket: Ticket number\n",
      "Fare: Ticket fare paid by the passenger\n",
      "Cabin: Cabin number\n",
      "Embarked: Port embarked at - C, S or Q\n"
     ]
    }
   ],
   "source": [
    "#Summary of the features provided in the dataset\n",
    "\n",
    "print(\"*****************************************************\")\n",
    "print(\"Summary of various features provided in the dataset\")\n",
    "print(\"*****************************************************\")\n",
    "print(\"PassengerId: ID as generated in sequence in the dataset\")\n",
    "print(\"Survived: Passengers whom survived = 1, Passengers whom did not survive = 0\")\n",
    "print(\"Pclass: Passenger class in 1, 2 or 3\")\n",
    "print(\"Name: Name of passenger\")\n",
    "print(\"Sex: Gender of passenger\")\n",
    "print(\"Age: Age of passenger\")\n",
    "print(\"SibSp: Number of siblings or spouse onboard with the passenger\")\n",
    "print(\"Parch: Number of parents or children onboard with the passenger\")\n",
    "print(\"Ticket: Ticket number\")\n",
    "print(\"Fare: Ticket fare paid by the passenger\")\n",
    "print(\"Cabin: Cabin number\")\n",
    "print(\"Embarked: Port embarked at - C, S or Q\")"
   ]
  },
  {
   "cell_type": "markdown",
   "id": "c77998fc",
   "metadata": {},
   "source": [
    "# Exploratory Data Analysis"
   ]
  },
  {
   "cell_type": "code",
   "execution_count": 6,
   "id": "41deaaee",
   "metadata": {},
   "outputs": [
    {
     "name": "stdout",
     "output_type": "stream",
     "text": [
      "<class 'pandas.core.frame.DataFrame'>\n",
      "RangeIndex: 891 entries, 0 to 890\n",
      "Data columns (total 12 columns):\n",
      " #   Column       Non-Null Count  Dtype  \n",
      "---  ------       --------------  -----  \n",
      " 0   PassengerId  891 non-null    int64  \n",
      " 1   Survived     891 non-null    int64  \n",
      " 2   Pclass       891 non-null    int64  \n",
      " 3   Name         891 non-null    object \n",
      " 4   Sex          891 non-null    object \n",
      " 5   Age          714 non-null    float64\n",
      " 6   SibSp        891 non-null    int64  \n",
      " 7   Parch        891 non-null    int64  \n",
      " 8   Ticket       891 non-null    object \n",
      " 9   Fare         891 non-null    float64\n",
      " 10  Cabin        204 non-null    object \n",
      " 11  Embarked     889 non-null    object \n",
      "dtypes: float64(2), int64(5), object(5)\n",
      "memory usage: 83.7+ KB\n",
      "None\n",
      "PassengerId      0\n",
      "Survived         0\n",
      "Pclass           0\n",
      "Name             0\n",
      "Sex              0\n",
      "Age            177\n",
      "SibSp            0\n",
      "Parch            0\n",
      "Ticket           0\n",
      "Fare             0\n",
      "Cabin          687\n",
      "Embarked         2\n",
      "dtype: int64\n"
     ]
    }
   ],
   "source": [
    "print(traindf.info())\n",
    "print(traindf.isnull().sum())"
   ]
  },
  {
   "cell_type": "code",
   "execution_count": 7,
   "id": "6c99768c",
   "metadata": {},
   "outputs": [
    {
     "name": "stdout",
     "output_type": "stream",
     "text": [
      "<class 'pandas.core.frame.DataFrame'>\n",
      "RangeIndex: 418 entries, 0 to 417\n",
      "Data columns (total 11 columns):\n",
      " #   Column       Non-Null Count  Dtype  \n",
      "---  ------       --------------  -----  \n",
      " 0   PassengerId  418 non-null    int64  \n",
      " 1   Pclass       418 non-null    int64  \n",
      " 2   Name         418 non-null    object \n",
      " 3   Sex          418 non-null    object \n",
      " 4   Age          332 non-null    float64\n",
      " 5   SibSp        418 non-null    int64  \n",
      " 6   Parch        418 non-null    int64  \n",
      " 7   Ticket       418 non-null    object \n",
      " 8   Fare         417 non-null    float64\n",
      " 9   Cabin        91 non-null     object \n",
      " 10  Embarked     418 non-null    object \n",
      "dtypes: float64(2), int64(4), object(5)\n",
      "memory usage: 36.0+ KB\n",
      "None\n",
      "PassengerId      0\n",
      "Pclass           0\n",
      "Name             0\n",
      "Sex              0\n",
      "Age             86\n",
      "SibSp            0\n",
      "Parch            0\n",
      "Ticket           0\n",
      "Fare             1\n",
      "Cabin          327\n",
      "Embarked         0\n",
      "dtype: int64\n"
     ]
    }
   ],
   "source": [
    "print(testdf.info())\n",
    "print(testdf.isnull().sum())"
   ]
  },
  {
   "cell_type": "code",
   "execution_count": 8,
   "id": "88b04c22",
   "metadata": {},
   "outputs": [
    {
     "data": {
      "image/png": "[encoded data removed]",
      "text/plain": [
       "<Figure size 720x288 with 2 Axes>"
      ]
     },
     "metadata": {
      "needs_background": "light"
     },
     "output_type": "display_data"
    }
   ],
   "source": [
    "#Identifying features that could lead to a high chance of survival\n",
    "\n",
    "#1. Age & Sex\n",
    "survived = 'survived'\n",
    "not_survived = 'not survived'\n",
    "fig, axes = plt.subplots(nrows=1, ncols=2,figsize=(10, 4))\n",
    "women = traindf[traindf['Sex']=='female']\n",
    "men = traindf[traindf['Sex']=='male']\n",
    "ax = sns.distplot(women[women['Survived']==1].Age.dropna(), bins=18, label = survived, ax = axes[0], kde =False)\n",
    "ax = sns.distplot(women[women['Survived']==0].Age.dropna(), bins=40, label = not_survived, ax = axes[0], kde =False)\n",
    "ax.legend()\n",
    "ax.set_title('Female')\n",
    "ax = sns.distplot(men[men['Survived']==1].Age.dropna(), bins=18, label = survived, ax = axes[1], kde = False)\n",
    "ax = sns.distplot(men[men['Survived']==0].Age.dropna(), bins=40, label = not_survived, ax = axes[1], kde = False)\n",
    "ax.legend()\n",
    "_ = ax.set_title('Male')\n",
    "\n",
    "#From the graphs below, it can be inferred that for the females, their survival rates are higher than non-survival rates, and vice versa for the males. \n",
    "#Most of the people whom survived seems to be of the younger age group - i.e. 50 and below."
   ]
  },
  {
   "cell_type": "code",
   "execution_count": 9,
   "id": "df216b0b",
   "metadata": {},
   "outputs": [
    {
     "data": {
      "text/plain": [
       "Text(0, 0.5, '% Survived')"
      ]
     },
     "execution_count": 9,
     "metadata": {},
     "output_type": "execute_result"
    },
    {
     "data": {
      "image/png": "[encoded data removed]",
      "text/plain": [
       "<Figure size 432x288 with 1 Axes>"
      ]
     },
     "metadata": {
      "needs_background": "light"
     },
     "output_type": "display_data"
    }
   ],
   "source": [
    "#2. Embarked\n",
    "fig, ax = plt.subplots(figsize=(6,4))\n",
    "embarked = traindf['Embarked'].value_counts(sort=False)\n",
    "\n",
    "s_count = traindf.loc[traindf['Survived'] == 1, ['Embarked']].value_counts(sort=False)\n",
    "#ns_count = traindf.loc[df['Survived'] == 0, ['Embarked']].value_counts(sort=False)\n",
    "\n",
    "ax.bar('S', s_count['S']/embarked['S'])\n",
    "ax.bar('C', s_count['C']/embarked['C'])\n",
    "ax.bar('Q', s_count['Q']/embarked['Q'])\n",
    "\n",
    "plt.title(\"% survived for various embarked classes\")\n",
    "\n",
    "ax.set_ylabel('% Survived')"
   ]
  },
  {
   "cell_type": "code",
   "execution_count": 10,
   "id": "3ada1990",
   "metadata": {},
   "outputs": [
    {
     "name": "stderr",
     "output_type": "stream",
     "text": [
      "/opt/anaconda3/lib/python3.8/site-packages/seaborn/axisgrid.py:316: UserWarning: The `size` parameter has been renamed to `height`; please update your code.\n",
      "  warnings.warn(msg, UserWarning)\n"
     ]
    },
    {
     "data": {
      "image/png": "[encoded data removed]",
      "text/plain": [
       "<Figure size 432x288 with 1 Axes>"
      ]
     },
     "metadata": {
      "needs_background": "light"
     },
     "output_type": "display_data"
    },
    {
     "data": {
      "image/png": "[encoded data removed]",
      "text/plain": [
       "<Figure size 468.8x432 with 6 Axes>"
      ]
     },
     "metadata": {
      "needs_background": "light"
     },
     "output_type": "display_data"
    }
   ],
   "source": [
    "#3. Pclass\n",
    "sns.barplot(x='Pclass', y='Survived', data=traindf)\n",
    "\n",
    "grid = sns.FacetGrid(traindf, col='Survived', row='Pclass', size=2, aspect=1.6)\n",
    "grid.map(plt.hist, 'Age', alpha=.5, bins=20)\n",
    "grid.add_legend();\n",
    "\n",
    "#As seen from the graphs below, Pclass=1 had the highest survival rates, followed by Pclass=2 and Pclass=3. Most of the passengers whom did not survive in Pclass=3 were below 50 years old."
   ]
  },
  {
   "cell_type": "code",
   "execution_count": 11,
   "id": "e73d2a7c",
   "metadata": {},
   "outputs": [
    {
     "data": {
      "image/png": "[encoded data removed]",
      "text/plain": [
       "<Figure size 1440x288 with 2 Axes>"
      ]
     },
     "metadata": {
      "needs_background": "light"
     },
     "output_type": "display_data"
    }
   ],
   "source": [
    "#4. Siblings/Spouse - SibSp & Parents/Children - Parch\n",
    "\n",
    "fig, axes = plt.subplots(nrows=1, ncols=2,figsize=(20, 4))\n",
    "ax = sns.distplot(traindf[traindf['Survived']==1].SibSp.dropna(), bins=5, label = survived, ax = axes[0])\n",
    "ax = sns.distplot(traindf[traindf['Survived']==0].SibSp.dropna(), bins=20, label = not_survived, ax = axes[0])\n",
    "ax.legend()\n",
    "ax.set_title('Siblings/Spouse')\n",
    "ax = sns.distplot(traindf[traindf['Survived']==1].Parch.dropna(), bins=5, label = survived, ax = axes[1])\n",
    "ax = sns.distplot(traindf[traindf['Survived']==0].Parch.dropna(), bins=20, label = not_survived, ax = axes[1])\n",
    "ax.legend()\n",
    "_ = ax.set_title('Parents/Children')\n",
    "\n",
    "\n",
    "\n",
    "#As can be seen from the data below, most of the people whom survived came with less than 3 siblings. A family of 8 Siblings/spouses did not survive\n",
    "##Passengers with 0,1,2,3 parents/children had similar survival rates. It seems that survival rates were higher for these passengers in general.\n"
   ]
  },
  {
   "cell_type": "code",
   "execution_count": 12,
   "id": "f9783f95",
   "metadata": {},
   "outputs": [
    {
     "name": "stderr",
     "output_type": "stream",
     "text": [
      "/opt/anaconda3/lib/python3.8/site-packages/seaborn/axisgrid.py:316: UserWarning: The `size` parameter has been renamed to `height`; please update your code.\n",
      "  warnings.warn(msg, UserWarning)\n"
     ]
    },
    {
     "data": {
      "text/plain": [
       "<seaborn.axisgrid.FacetGrid at 0x7fae21718c70>"
      ]
     },
     "execution_count": 12,
     "metadata": {},
     "output_type": "execute_result"
    },
    {
     "data": {
      "image/png": "[encoded data removed]",
      "text/plain": [
       "<Figure size 588.9x972 with 3 Axes>"
      ]
     },
     "metadata": {
      "needs_background": "light"
     },
     "output_type": "display_data"
    }
   ],
   "source": [
    "#5. Embarked, Pclass and sex\n",
    "\n",
    "FacetGrid = sns.FacetGrid(traindf, row='Embarked', size=4.5, aspect=1.6)\n",
    "FacetGrid.map(sns.pointplot, 'Pclass', 'Survived', 'Sex', palette=None,  order=None, hue_order=None )\n",
    "FacetGrid.add_legend()"
   ]
  },
  {
   "cell_type": "code",
   "execution_count": 13,
   "id": "0b0c85e5",
   "metadata": {},
   "outputs": [
    {
     "data": {
      "text/plain": [
       "1    537\n",
       "0    354\n",
       "Name: not_alone, dtype: int64"
      ]
     },
     "execution_count": 13,
     "metadata": {},
     "output_type": "execute_result"
    }
   ],
   "source": [
    "#6. Since the Parch and SibSp seems to contribute to the survival rates, we will add a new feature called relatives, which combines both SibSp and Parch values, and also another column named not_alone - to determine if passengers on board came with SibSp/Parch or they were alone onboard.\n",
    "data = [traindf, testdf]\n",
    "for d in data:\n",
    "    d['relatives'] = d['SibSp'] + d['Parch']\n",
    "    d.loc[d['relatives'] > 0, 'not_alone'] = 0\n",
    "    d.loc[d['relatives'] == 0, 'not_alone'] = 1\n",
    "    d['not_alone'] = d['not_alone'].astype(int)\n",
    "traindf['not_alone'].value_counts()\n",
    "\n"
   ]
  },
  {
   "cell_type": "code",
   "execution_count": 14,
   "id": "b6649710",
   "metadata": {},
   "outputs": [
    {
     "name": "stderr",
     "output_type": "stream",
     "text": [
      "/opt/anaconda3/lib/python3.8/site-packages/seaborn/categorical.py:3714: UserWarning: The `factorplot` function has been renamed to `catplot`. The original name will be removed in a future release. Please update your code. Note that the default `kind` in `factorplot` (`'point'`) has changed `'strip'` in `catplot`.\n",
      "  warnings.warn(msg)\n"
     ]
    },
    {
     "data": {
      "image/png": "[encoded data removed]",
      "text/plain": [
       "<Figure size 900x360 with 1 Axes>"
      ]
     },
     "metadata": {
      "needs_background": "light"
     },
     "output_type": "display_data"
    }
   ],
   "source": [
    "axes = sns.factorplot('relatives','Survived', data=traindf, aspect = 2.5, )\n"
   ]
  },
  {
   "cell_type": "markdown",
   "id": "bd6027a6",
   "metadata": {},
   "source": [
    "# Data Preparation"
   ]
  },
  {
   "cell_type": "code",
   "execution_count": 15,
   "id": "a0490844",
   "metadata": {},
   "outputs": [],
   "source": [
    "#drop cabin column as it has too many null values\n",
    "train_data = traindf.drop(columns='Cabin', axis=1)\n",
    "test_data = testdf.drop(columns='Cabin', axis=1)\n",
    "\n",
    "#Replacing the missing values in the “Age” column with the mean value\n",
    "train_data['Age'].fillna(train_data['Age'].mean(), inplace=True)\n",
    "test_data['Age'].fillna(test_data['Age'].mean(), inplace=True)\n",
    "test_data['Fare'].fillna(test_data['Fare'].mean(), inplace=True)\n",
    "\n",
    "#Replacing the missing values in the “Embarked” column with mode value\n",
    "train_data['Embarked'].fillna(train_data['Embarked'].mode()[0], inplace=True)\n",
    "test_data['Embarked'].fillna(test_data['Embarked'].mode()[0], inplace=True)\n",
    "\n",
    "#Converting integer type values into categorical columns\n",
    "train_data1=train_data.replace({'Sex':{'male':0,'female':1}, 'Embarked':{'S':0,'C':1,'Q':2}}, inplace=True)\n",
    "test_data1=test_data.replace({'Sex':{'male':0,'female':1}, 'Embarked':{'S':0,'C':1,'Q':2}}, inplace=True)\n",
    "\n",
    "#dropping these 3 columns as they have less relation to the predictions\n",
    "test_data1 = test_data.drop(columns = ['PassengerId','Ticket', 'Name'],axis=1)\n",
    "train_data1 = train_data.drop(columns = ['PassengerId','Ticket', 'Name'],axis=1)"
   ]
  },
  {
   "cell_type": "code",
   "execution_count": 16,
   "id": "842724a6",
   "metadata": {},
   "outputs": [
    {
     "data": {
      "text/html": [
       "<div>\n",
       "<style scoped>\n",
       "    .dataframe tbody tr th:only-of-type {\n",
       "        vertical-align: middle;\n",
       "    }\n",
       "\n",
       "    .dataframe tbody tr th {\n",
       "        vertical-align: top;\n",
       "    }\n",
       "\n",
       "    .dataframe thead th {\n",
       "        text-align: right;\n",
       "    }\n",
       "</style>\n",
       "<table border=\"1\" class=\"dataframe\">\n",
       "  <thead>\n",
       "    <tr style=\"text-align: right;\">\n",
       "      <th></th>\n",
       "      <th>Survived</th>\n",
       "      <th>Pclass</th>\n",
       "      <th>Sex</th>\n",
       "      <th>Age</th>\n",
       "      <th>SibSp</th>\n",
       "      <th>Parch</th>\n",
       "      <th>Fare</th>\n",
       "      <th>Embarked</th>\n",
       "      <th>relatives</th>\n",
       "      <th>not_alone</th>\n",
       "    </tr>\n",
       "  </thead>\n",
       "  <tbody>\n",
       "    <tr>\n",
       "      <th>0</th>\n",
       "      <td>0</td>\n",
       "      <td>3</td>\n",
       "      <td>0</td>\n",
       "      <td>22.0</td>\n",
       "      <td>1</td>\n",
       "      <td>0</td>\n",
       "      <td>7.2500</td>\n",
       "      <td>0</td>\n",
       "      <td>1</td>\n",
       "      <td>0</td>\n",
       "    </tr>\n",
       "    <tr>\n",
       "      <th>1</th>\n",
       "      <td>1</td>\n",
       "      <td>1</td>\n",
       "      <td>1</td>\n",
       "      <td>38.0</td>\n",
       "      <td>1</td>\n",
       "      <td>0</td>\n",
       "      <td>71.2833</td>\n",
       "      <td>1</td>\n",
       "      <td>1</td>\n",
       "      <td>0</td>\n",
       "    </tr>\n",
       "    <tr>\n",
       "      <th>2</th>\n",
       "      <td>1</td>\n",
       "      <td>3</td>\n",
       "      <td>1</td>\n",
       "      <td>26.0</td>\n",
       "      <td>0</td>\n",
       "      <td>0</td>\n",
       "      <td>7.9250</td>\n",
       "      <td>0</td>\n",
       "      <td>0</td>\n",
       "      <td>1</td>\n",
       "    </tr>\n",
       "    <tr>\n",
       "      <th>3</th>\n",
       "      <td>1</td>\n",
       "      <td>1</td>\n",
       "      <td>1</td>\n",
       "      <td>35.0</td>\n",
       "      <td>1</td>\n",
       "      <td>0</td>\n",
       "      <td>53.1000</td>\n",
       "      <td>0</td>\n",
       "      <td>1</td>\n",
       "      <td>0</td>\n",
       "    </tr>\n",
       "    <tr>\n",
       "      <th>4</th>\n",
       "      <td>0</td>\n",
       "      <td>3</td>\n",
       "      <td>0</td>\n",
       "      <td>35.0</td>\n",
       "      <td>0</td>\n",
       "      <td>0</td>\n",
       "      <td>8.0500</td>\n",
       "      <td>0</td>\n",
       "      <td>0</td>\n",
       "      <td>1</td>\n",
       "    </tr>\n",
       "  </tbody>\n",
       "</table>\n",
       "</div>"
      ],
      "text/plain": [
       "   Survived  Pclass  Sex   Age  SibSp  Parch     Fare  Embarked  relatives  \\\n",
       "0         0       3    0  22.0      1      0   7.2500         0          1   \n",
       "1         1       1    1  38.0      1      0  71.2833         1          1   \n",
       "2         1       3    1  26.0      0      0   7.9250         0          0   \n",
       "3         1       1    1  35.0      1      0  53.1000         0          1   \n",
       "4         0       3    0  35.0      0      0   8.0500         0          0   \n",
       "\n",
       "   not_alone  \n",
       "0          0  \n",
       "1          0  \n",
       "2          1  \n",
       "3          0  \n",
       "4          1  "
      ]
     },
     "execution_count": 16,
     "metadata": {},
     "output_type": "execute_result"
    }
   ],
   "source": [
    "train_data1.head()"
   ]
  },
  {
   "cell_type": "code",
   "execution_count": 17,
   "id": "78a05444",
   "metadata": {},
   "outputs": [
    {
     "name": "stdout",
     "output_type": "stream",
     "text": [
      "<class 'pandas.core.frame.DataFrame'>\n",
      "RangeIndex: 891 entries, 0 to 890\n",
      "Data columns (total 10 columns):\n",
      " #   Column     Non-Null Count  Dtype  \n",
      "---  ------     --------------  -----  \n",
      " 0   Survived   891 non-null    int64  \n",
      " 1   Pclass     891 non-null    int64  \n",
      " 2   Sex        891 non-null    int64  \n",
      " 3   Age        891 non-null    float64\n",
      " 4   SibSp      891 non-null    int64  \n",
      " 5   Parch      891 non-null    int64  \n",
      " 6   Fare       891 non-null    float64\n",
      " 7   Embarked   891 non-null    int64  \n",
      " 8   relatives  891 non-null    int64  \n",
      " 9   not_alone  891 non-null    int64  \n",
      "dtypes: float64(2), int64(8)\n",
      "memory usage: 69.7 KB\n"
     ]
    }
   ],
   "source": [
    "train_data1.info()"
   ]
  },
  {
   "cell_type": "code",
   "execution_count": 18,
   "id": "59460482",
   "metadata": {},
   "outputs": [
    {
     "data": {
      "text/html": [
       "<div>\n",
       "<style scoped>\n",
       "    .dataframe tbody tr th:only-of-type {\n",
       "        vertical-align: middle;\n",
       "    }\n",
       "\n",
       "    .dataframe tbody tr th {\n",
       "        vertical-align: top;\n",
       "    }\n",
       "\n",
       "    .dataframe thead th {\n",
       "        text-align: right;\n",
       "    }\n",
       "</style>\n",
       "<table border=\"1\" class=\"dataframe\">\n",
       "  <thead>\n",
       "    <tr style=\"text-align: right;\">\n",
       "      <th></th>\n",
       "      <th>Pclass</th>\n",
       "      <th>Sex</th>\n",
       "      <th>Age</th>\n",
       "      <th>SibSp</th>\n",
       "      <th>Parch</th>\n",
       "      <th>Fare</th>\n",
       "      <th>Embarked</th>\n",
       "      <th>relatives</th>\n",
       "      <th>not_alone</th>\n",
       "    </tr>\n",
       "  </thead>\n",
       "  <tbody>\n",
       "    <tr>\n",
       "      <th>0</th>\n",
       "      <td>3</td>\n",
       "      <td>0</td>\n",
       "      <td>34.5</td>\n",
       "      <td>0</td>\n",
       "      <td>0</td>\n",
       "      <td>7.8292</td>\n",
       "      <td>2</td>\n",
       "      <td>0</td>\n",
       "      <td>1</td>\n",
       "    </tr>\n",
       "    <tr>\n",
       "      <th>1</th>\n",
       "      <td>3</td>\n",
       "      <td>1</td>\n",
       "      <td>47.0</td>\n",
       "      <td>1</td>\n",
       "      <td>0</td>\n",
       "      <td>7.0000</td>\n",
       "      <td>0</td>\n",
       "      <td>1</td>\n",
       "      <td>0</td>\n",
       "    </tr>\n",
       "    <tr>\n",
       "      <th>2</th>\n",
       "      <td>2</td>\n",
       "      <td>0</td>\n",
       "      <td>62.0</td>\n",
       "      <td>0</td>\n",
       "      <td>0</td>\n",
       "      <td>9.6875</td>\n",
       "      <td>2</td>\n",
       "      <td>0</td>\n",
       "      <td>1</td>\n",
       "    </tr>\n",
       "    <tr>\n",
       "      <th>3</th>\n",
       "      <td>3</td>\n",
       "      <td>0</td>\n",
       "      <td>27.0</td>\n",
       "      <td>0</td>\n",
       "      <td>0</td>\n",
       "      <td>8.6625</td>\n",
       "      <td>0</td>\n",
       "      <td>0</td>\n",
       "      <td>1</td>\n",
       "    </tr>\n",
       "    <tr>\n",
       "      <th>4</th>\n",
       "      <td>3</td>\n",
       "      <td>1</td>\n",
       "      <td>22.0</td>\n",
       "      <td>1</td>\n",
       "      <td>1</td>\n",
       "      <td>12.2875</td>\n",
       "      <td>0</td>\n",
       "      <td>2</td>\n",
       "      <td>0</td>\n",
       "    </tr>\n",
       "  </tbody>\n",
       "</table>\n",
       "</div>"
      ],
      "text/plain": [
       "   Pclass  Sex   Age  SibSp  Parch     Fare  Embarked  relatives  not_alone\n",
       "0       3    0  34.5      0      0   7.8292         2          0          1\n",
       "1       3    1  47.0      1      0   7.0000         0          1          0\n",
       "2       2    0  62.0      0      0   9.6875         2          0          1\n",
       "3       3    0  27.0      0      0   8.6625         0          0          1\n",
       "4       3    1  22.0      1      1  12.2875         0          2          0"
      ]
     },
     "execution_count": 18,
     "metadata": {},
     "output_type": "execute_result"
    }
   ],
   "source": [
    "test_data1.head()"
   ]
  },
  {
   "cell_type": "code",
   "execution_count": 19,
   "id": "3e41791e",
   "metadata": {},
   "outputs": [
    {
     "name": "stdout",
     "output_type": "stream",
     "text": [
      "<class 'pandas.core.frame.DataFrame'>\n",
      "RangeIndex: 418 entries, 0 to 417\n",
      "Data columns (total 9 columns):\n",
      " #   Column     Non-Null Count  Dtype  \n",
      "---  ------     --------------  -----  \n",
      " 0   Pclass     418 non-null    int64  \n",
      " 1   Sex        418 non-null    int64  \n",
      " 2   Age        418 non-null    float64\n",
      " 3   SibSp      418 non-null    int64  \n",
      " 4   Parch      418 non-null    int64  \n",
      " 5   Fare       418 non-null    float64\n",
      " 6   Embarked   418 non-null    int64  \n",
      " 7   relatives  418 non-null    int64  \n",
      " 8   not_alone  418 non-null    int64  \n",
      "dtypes: float64(2), int64(7)\n",
      "memory usage: 29.5 KB\n"
     ]
    }
   ],
   "source": [
    "test_data1.info()"
   ]
  },
  {
   "cell_type": "markdown",
   "id": "34ca31fb",
   "metadata": {},
   "source": [
    "# Train Model"
   ]
  },
  {
   "cell_type": "code",
   "execution_count": 20,
   "id": "4e64bc61",
   "metadata": {},
   "outputs": [],
   "source": [
    "#Split the data into the target and feature variables\n",
    "\n",
    "X = train_data1.drop(columns = ['Survived'],axis=1)\n",
    "y = train_data1.Survived\n",
    "X_train, X_test, y_train, y_test = train_test_split(X, y, test_size=0.2, random_state=42)"
   ]
  },
  {
   "cell_type": "markdown",
   "id": "2309980a",
   "metadata": {},
   "source": [
    "# Score model"
   ]
  },
  {
   "cell_type": "code",
   "execution_count": 21,
   "id": "61e9f013",
   "metadata": {},
   "outputs": [
    {
     "name": "stdout",
     "output_type": "stream",
     "text": [
      "Accuracy score of training data :  0.8384831460674157\n",
      "Accuracy score of test data :  0.7039106145251397\n"
     ]
    }
   ],
   "source": [
    "#k-Nearest Neighbours\n",
    "knnmodel = KNeighborsClassifier(n_neighbors = 3) \n",
    "\n",
    "knnmodel.fit(X_train, y_train)  \n",
    "\n",
    "#Checking accuracy\n",
    "X_train_predictionknn = knnmodel.predict(X_train)\n",
    "\n",
    "training_data_accuracyknn = accuracy_score(y_train, X_train_predictionknn)\n",
    "print('Accuracy score of training data : ', training_data_accuracyknn)\n",
    "\n",
    "#predicting the accuracy score with test data\n",
    "Y_predknn = knnmodel.predict(X_test)  \n",
    "\n",
    "test_data_accuracyknn = accuracy_score(y_test, Y_predknn)\n",
    "print('Accuracy score of test data : ', test_data_accuracyknn)\n",
    "\n"
   ]
  },
  {
   "cell_type": "code",
   "execution_count": 22,
   "id": "0cc91077",
   "metadata": {},
   "outputs": [
    {
     "name": "stdout",
     "output_type": "stream",
     "text": [
      "Accuracy score of training data :  0.8061797752808989\n",
      "Accuracy score of test data :  0.8044692737430168\n"
     ]
    },
    {
     "name": "stderr",
     "output_type": "stream",
     "text": [
      "/opt/anaconda3/lib/python3.8/site-packages/sklearn/linear_model/_logistic.py:763: ConvergenceWarning: lbfgs failed to converge (status=1):\n",
      "STOP: TOTAL NO. of ITERATIONS REACHED LIMIT.\n",
      "\n",
      "Increase the number of iterations (max_iter) or scale the data as shown in:\n",
      "    https://scikit-learn.org/stable/modules/preprocessing.html\n",
      "Please also refer to the documentation for alternative solver options:\n",
      "    https://scikit-learn.org/stable/modules/linear_model.html#logistic-regression\n",
      "  n_iter_i = _check_optimize_result(\n"
     ]
    }
   ],
   "source": [
    "#Logistic Regression\n",
    "LRmodel = LogisticRegression()\n",
    "\n",
    "LRmodel.fit(X_train, y_train)\n",
    "\n",
    "#Checking accuracy\n",
    "X_train_predictionLR = LRmodel.predict(X_train)\n",
    "\n",
    "training_data_accuracyLR = accuracy_score(y_train, X_train_predictionLR)\n",
    "print('Accuracy score of training data : ', training_data_accuracyLR)\n",
    "\n",
    "#predicting the accuracy score with test data\n",
    "Y_predLR = LRmodel.predict(X_test)\n",
    "\n",
    "test_data_accuracyLR = accuracy_score(y_test, Y_predLR)\n",
    "print('Accuracy score of test data : ', test_data_accuracyLR)"
   ]
  },
  {
   "cell_type": "code",
   "execution_count": 23,
   "id": "a6e61ba3",
   "metadata": {},
   "outputs": [
    {
     "name": "stdout",
     "output_type": "stream",
     "text": [
      "Accuracy score of training data :  0.7963483146067416\n",
      "Accuracy score of test data :  0.7877094972067039\n"
     ]
    }
   ],
   "source": [
    "#Naive Bayes Classifier\n",
    "gaussian = GaussianNB() \n",
    "\n",
    "gaussian.fit(X_train, y_train)  \n",
    "\n",
    "#Checking accuracy\n",
    "X_train_predictionNB = gaussian.predict(X_train)\n",
    "\n",
    "training_data_accuracyNB = accuracy_score(y_train, X_train_predictionNB)\n",
    "print('Accuracy score of training data : ', training_data_accuracyNB)\n",
    "\n",
    "#predicting the accuracy score with test data\n",
    "Y_predNB = gaussian.predict(X_test)  \n",
    "\n",
    "test_data_accuracyNB = accuracy_score(y_test, Y_predNB)\n",
    "print('Accuracy score of test data : ', test_data_accuracyNB)"
   ]
  },
  {
   "cell_type": "code",
   "execution_count": 24,
   "id": "9d679597",
   "metadata": {},
   "outputs": [
    {
     "name": "stdout",
     "output_type": "stream",
     "text": [
      "Accuracy score of training data :  0.9803370786516854\n",
      "Accuracy score of test data :  0.7877094972067039\n"
     ]
    }
   ],
   "source": [
    "#Decision tree\n",
    "decision_tree = DecisionTreeClassifier() \n",
    "\n",
    "decision_tree.fit(X_train, y_train) \n",
    "\n",
    "#Checking accuracy\n",
    "X_train_predictiondt = decision_tree.predict(X_train)\n",
    "\n",
    "training_data_accuracydt = accuracy_score(y_train, X_train_predictiondt)\n",
    "print('Accuracy score of training data : ', training_data_accuracydt)\n",
    "\n",
    "#predicting the accuracy score with test data\n",
    "Y_preddt = decision_tree.predict(X_test)  \n",
    "\n",
    "test_data_accuracydt = accuracy_score(y_test, Y_preddt)\n",
    "print('Accuracy score of test data : ', test_data_accuracydt)"
   ]
  },
  {
   "cell_type": "code",
   "execution_count": 25,
   "id": "8996f352",
   "metadata": {},
   "outputs": [
    {
     "name": "stdout",
     "output_type": "stream",
     "text": [
      "Accuracy score of training data :  0.9803370786516854\n",
      "Accuracy score of test data :  0.8268156424581006\n"
     ]
    }
   ],
   "source": [
    "#Random forest\n",
    "RFmodel = RandomForestClassifier(n_estimators=100)\n",
    "\n",
    "RFmodel.fit(X_train, y_train)\n",
    "\n",
    "#Checking accuracy\n",
    "X_train_predictionRF = RFmodel.predict(X_train)\n",
    "\n",
    "training_data_accuracyRF = accuracy_score(y_train, X_train_predictionRF)\n",
    "print('Accuracy score of training data : ', training_data_accuracyRF)\n",
    "\n",
    "#predicting the accuracy score with test data\n",
    "Y_predRF = RFmodel.predict(X_test)\n",
    "\n",
    "test_data_accuracyRF = accuracy_score(y_test, Y_predRF)\n",
    "print('Accuracy score of test data : ', test_data_accuracyRF)"
   ]
  },
  {
   "cell_type": "code",
   "execution_count": 26,
   "id": "f3b68be3",
   "metadata": {},
   "outputs": [
    {
     "name": "stdout",
     "output_type": "stream",
     "text": [
      "Accuracy score of training data :  0.6769662921348315\n",
      "Accuracy score of test data :  0.6815642458100558\n"
     ]
    },
    {
     "name": "stderr",
     "output_type": "stream",
     "text": [
      "/opt/anaconda3/lib/python3.8/site-packages/sklearn/svm/_base.py:985: ConvergenceWarning: Liblinear failed to converge, increase the number of iterations.\n",
      "  warnings.warn(\"Liblinear failed to converge, increase \"\n"
     ]
    }
   ],
   "source": [
    "#Linear SVC\n",
    "LSVCmodel = LinearSVC()\n",
    "\n",
    "LSVCmodel.fit(X_train, y_train)\n",
    "\n",
    "#Checking accuracy\n",
    "X_train_predictionlsvm = LSVCmodel.predict(X_train)\n",
    "\n",
    "training_data_accuracylsvm = accuracy_score(y_train, X_train_predictionlsvm)\n",
    "print('Accuracy score of training data : ', training_data_accuracylsvm)\n",
    "\n",
    "#predicting the accuracy score with test data\n",
    "Y_predlsvm = LSVCmodel.predict(X_test)\n",
    "\n",
    "test_data_accuracylsvm = accuracy_score(y_test, Y_predlsvm)\n",
    "print('Accuracy score of test data : ', test_data_accuracylsvm)"
   ]
  },
  {
   "cell_type": "code",
   "execution_count": 27,
   "id": "89b10e8a",
   "metadata": {},
   "outputs": [
    {
     "name": "stdout",
     "output_type": "stream",
     "text": [
      "Accuracy score of training data :  0.6797752808988764\n",
      "Accuracy score of test data :  0.659217877094972\n"
     ]
    }
   ],
   "source": [
    "#Non-Linear SVC \n",
    "NLmodel = SVC()\n",
    "\n",
    "NLmodel.fit(X_train, y_train)\n",
    "\n",
    "#Checking accuracy\n",
    "X_train_predictionNL = NLmodel.predict(X_train)\n",
    "\n",
    "training_data_accuracyNL = accuracy_score(y_train, X_train_predictionNL)\n",
    "print('Accuracy score of training data : ', training_data_accuracyNL)\n",
    "\n",
    "#predicting the accuracy score with test data\n",
    "Y_predNL = NLmodel.predict(X_test)\n",
    "\n",
    "test_data_accuracyNL = accuracy_score(y_test, Y_predNL)\n",
    "print('Accuracy score of test data : ', test_data_accuracyNL)"
   ]
  },
  {
   "cell_type": "code",
   "execution_count": 28,
   "id": "99f1d5fe",
   "metadata": {},
   "outputs": [
    {
     "data": {
      "text/html": [
       "<div>\n",
       "<style scoped>\n",
       "    .dataframe tbody tr th:only-of-type {\n",
       "        vertical-align: middle;\n",
       "    }\n",
       "\n",
       "    .dataframe tbody tr th {\n",
       "        vertical-align: top;\n",
       "    }\n",
       "\n",
       "    .dataframe thead th {\n",
       "        text-align: right;\n",
       "    }\n",
       "</style>\n",
       "<table border=\"1\" class=\"dataframe\">\n",
       "  <thead>\n",
       "    <tr style=\"text-align: right;\">\n",
       "      <th></th>\n",
       "      <th>Score - Training</th>\n",
       "      <th>Score - Test validation</th>\n",
       "    </tr>\n",
       "    <tr>\n",
       "      <th>Models</th>\n",
       "      <th></th>\n",
       "      <th></th>\n",
       "    </tr>\n",
       "  </thead>\n",
       "  <tbody>\n",
       "    <tr>\n",
       "      <th>Random Forest</th>\n",
       "      <td>0.980337</td>\n",
       "      <td>0.826816</td>\n",
       "    </tr>\n",
       "    <tr>\n",
       "      <th>Decision Tree</th>\n",
       "      <td>0.980337</td>\n",
       "      <td>0.787709</td>\n",
       "    </tr>\n",
       "    <tr>\n",
       "      <th>KNN</th>\n",
       "      <td>0.838483</td>\n",
       "      <td>0.703911</td>\n",
       "    </tr>\n",
       "    <tr>\n",
       "      <th>Logistic Regression</th>\n",
       "      <td>0.806180</td>\n",
       "      <td>0.804469</td>\n",
       "    </tr>\n",
       "    <tr>\n",
       "      <th>Naive Bayes</th>\n",
       "      <td>0.796348</td>\n",
       "      <td>0.787709</td>\n",
       "    </tr>\n",
       "    <tr>\n",
       "      <th>Non-Linear SVC</th>\n",
       "      <td>0.679775</td>\n",
       "      <td>0.659218</td>\n",
       "    </tr>\n",
       "    <tr>\n",
       "      <th>Linear SVC</th>\n",
       "      <td>0.676966</td>\n",
       "      <td>0.681564</td>\n",
       "    </tr>\n",
       "  </tbody>\n",
       "</table>\n",
       "</div>"
      ],
      "text/plain": [
       "                     Score - Training  Score - Test validation\n",
       "Models                                                        \n",
       "Random Forest                0.980337                 0.826816\n",
       "Decision Tree                0.980337                 0.787709\n",
       "KNN                          0.838483                 0.703911\n",
       "Logistic Regression          0.806180                 0.804469\n",
       "Naive Bayes                  0.796348                 0.787709\n",
       "Non-Linear SVC               0.679775                 0.659218\n",
       "Linear SVC                   0.676966                 0.681564"
      ]
     },
     "execution_count": 28,
     "metadata": {},
     "output_type": "execute_result"
    }
   ],
   "source": [
    "#Finding the best model\n",
    "results = pd.DataFrame({\n",
    "    'Models': ['KNN', 'Logistic Regression', 'Naive Bayes',\n",
    "              'Decision Tree', 'Random Forest', 'Linear SVC', \"Non-Linear SVC\"],\n",
    "    'Score - Training': [training_data_accuracyknn, training_data_accuracyLR, training_data_accuracyNB, \n",
    "              training_data_accuracydt, training_data_accuracyRF, training_data_accuracylsvm, training_data_accuracyNL],\n",
    "    'Score - Test validation' : [test_data_accuracyknn, test_data_accuracyLR, test_data_accuracyNB, \n",
    "              test_data_accuracydt, test_data_accuracyRF, test_data_accuracylsvm, test_data_accuracyNL]})\n",
    "result_df = results.sort_values(by=['Score - Training', 'Score - Test validation'], ascending=False)\n",
    "result_df = result_df.set_index('Models')\n",
    "result_df.head(9)"
   ]
  },
  {
   "cell_type": "markdown",
   "id": "78a429ec",
   "metadata": {},
   "source": [
    "# Evaluate Model"
   ]
  },
  {
   "cell_type": "code",
   "execution_count": 29,
   "id": "a6931822",
   "metadata": {},
   "outputs": [
    {
     "name": "stdout",
     "output_type": "stream",
     "text": [
      "Scores: [0.83333333 0.80555556 0.71830986 0.84507042 0.78873239 0.76056338\n",
      " 0.77464789 0.78873239 0.78873239 0.85915493]\n",
      "Mean: 0.7962832550860719\n",
      "Standard Deviation: 0.03973237291592005\n"
     ]
    }
   ],
   "source": [
    "#Cross validation with Random Forest\n",
    "RF_cross_val = cross_val_score(RFmodel, X_train, y_train, cv=10, scoring = \"accuracy\")\n",
    "print(\"Scores:\", RF_cross_val)\n",
    "print(\"Mean:\", RF_cross_val.mean())\n",
    "print(\"Standard Deviation:\", RF_cross_val.std())"
   ]
  },
  {
   "cell_type": "code",
   "execution_count": 30,
   "id": "da0c8805",
   "metadata": {},
   "outputs": [
    {
     "data": {
      "text/html": [
       "<div>\n",
       "<style scoped>\n",
       "    .dataframe tbody tr th:only-of-type {\n",
       "        vertical-align: middle;\n",
       "    }\n",
       "\n",
       "    .dataframe tbody tr th {\n",
       "        vertical-align: top;\n",
       "    }\n",
       "\n",
       "    .dataframe thead th {\n",
       "        text-align: right;\n",
       "    }\n",
       "</style>\n",
       "<table border=\"1\" class=\"dataframe\">\n",
       "  <thead>\n",
       "    <tr style=\"text-align: right;\">\n",
       "      <th></th>\n",
       "      <th>importance</th>\n",
       "    </tr>\n",
       "    <tr>\n",
       "      <th>feature</th>\n",
       "      <th></th>\n",
       "    </tr>\n",
       "  </thead>\n",
       "  <tbody>\n",
       "    <tr>\n",
       "      <th>Sex</th>\n",
       "      <td>0.269</td>\n",
       "    </tr>\n",
       "    <tr>\n",
       "      <th>Fare</th>\n",
       "      <td>0.262</td>\n",
       "    </tr>\n",
       "    <tr>\n",
       "      <th>Age</th>\n",
       "      <td>0.249</td>\n",
       "    </tr>\n",
       "    <tr>\n",
       "      <th>Pclass</th>\n",
       "      <td>0.079</td>\n",
       "    </tr>\n",
       "    <tr>\n",
       "      <th>relatives</th>\n",
       "      <td>0.048</td>\n",
       "    </tr>\n",
       "    <tr>\n",
       "      <th>SibSp</th>\n",
       "      <td>0.032</td>\n",
       "    </tr>\n",
       "    <tr>\n",
       "      <th>Embarked</th>\n",
       "      <td>0.031</td>\n",
       "    </tr>\n",
       "    <tr>\n",
       "      <th>Parch</th>\n",
       "      <td>0.018</td>\n",
       "    </tr>\n",
       "    <tr>\n",
       "      <th>not_alone</th>\n",
       "      <td>0.012</td>\n",
       "    </tr>\n",
       "  </tbody>\n",
       "</table>\n",
       "</div>"
      ],
      "text/plain": [
       "           importance\n",
       "feature              \n",
       "Sex             0.269\n",
       "Fare            0.262\n",
       "Age             0.249\n",
       "Pclass          0.079\n",
       "relatives       0.048\n",
       "SibSp           0.032\n",
       "Embarked        0.031\n",
       "Parch           0.018\n",
       "not_alone       0.012"
      ]
     },
     "execution_count": 30,
     "metadata": {},
     "output_type": "execute_result"
    }
   ],
   "source": [
    "#identifying which features are the most important and if any insignificant ones needs to be dropped\n",
    "importances = pd.DataFrame({'feature':X_train.columns,'importance':np.round(RFmodel.feature_importances_,3)})\n",
    "importances = importances.sort_values('importance',ascending=False).set_index('feature')\n",
    "importances.head(15)\n",
    "\n"
   ]
  },
  {
   "cell_type": "code",
   "execution_count": 31,
   "id": "10d5feef",
   "metadata": {},
   "outputs": [
    {
     "data": {
      "text/plain": [
       "array([[382,  62],\n",
       "       [ 85, 183]])"
      ]
     },
     "execution_count": 31,
     "metadata": {},
     "output_type": "execute_result"
    }
   ],
   "source": [
    "#Further evaluation with confusion matrix\n",
    "CF_pred_old = cross_val_predict(RFmodel, X_train, y_train, cv=3)\n",
    "confusion_matrix(y_train, CF_pred_old)\n",
    "\n",
    "#Not-survived-predictions: 380 passengers were correctly classified as not survived (called true negatives) and 64 where wrongly classified as not survived (false positives).\n",
    "\n",
    "#Survived-predictions: 83 passengers where wrongly classified as survived (false negatives) and 185 where correctly classified as survived (true positives).\n"
   ]
  },
  {
   "cell_type": "code",
   "execution_count": 32,
   "id": "d4c0e945",
   "metadata": {},
   "outputs": [],
   "source": [
    "#dropping the less significant features\n",
    "train_data_final = train_data1.drop(['not_alone'], axis=1)\n",
    "test_data_final = test_data1.drop(['not_alone'], axis=1)\n",
    "\n",
    "X1 = train_data_final.drop(columns = ['Survived'],axis=1)\n",
    "y1 = train_data_final.Survived\n",
    "\n",
    "X_train_new, X_test_new, y_train_new, y_test_new = train_test_split(X1, y1, test_size=0.2, random_state=42)"
   ]
  },
  {
   "cell_type": "code",
   "execution_count": 33,
   "id": "c688a2b8",
   "metadata": {},
   "outputs": [],
   "source": [
    "#Random forest - new\n",
    "RFmodel_new = RandomForestClassifier(n_estimators=100)\n",
    "\n",
    "RFmodel_new.fit(X_train_new, y_train_new)\n",
    "\n",
    "#Checking accuracy\n",
    "X_train_predictionRFnew = RFmodel_new.predict(X_train_new)\n",
    "\n",
    "training_data_accuracyRFnew = accuracy_score(y_train_new, X_train_predictionRFnew)\n",
    "\n",
    "#predicting the accuracy score with test data\n",
    "Y_predRF_new = RFmodel_new.predict(X_test_new)\n",
    "\n",
    "test_data_accuracyRFnew = accuracy_score(y_test_new, Y_predRF_new)"
   ]
  },
  {
   "cell_type": "code",
   "execution_count": 34,
   "id": "79696049",
   "metadata": {},
   "outputs": [
    {
     "name": "stdout",
     "output_type": "stream",
     "text": [
      "Parameters currently in use:\n",
      "\n",
      "{'bootstrap': True, 'ccp_alpha': 0.0, 'class_weight': None, 'criterion': 'gini', 'max_depth': None, 'max_features': 'auto', 'max_leaf_nodes': None, 'max_samples': None, 'min_impurity_decrease': 0.0, 'min_impurity_split': None, 'min_samples_leaf': 1, 'min_samples_split': 2, 'min_weight_fraction_leaf': 0.0, 'n_estimators': 100, 'n_jobs': None, 'oob_score': False, 'random_state': None, 'verbose': 0, 'warm_start': False}\n"
     ]
    }
   ],
   "source": [
    "#Parameters currently in use for Random forest\n",
    "print('Parameters currently in use:\\n')\n",
    "print(RFmodel_new.get_params())"
   ]
  },
  {
   "cell_type": "code",
   "execution_count": 35,
   "id": "af35f669",
   "metadata": {},
   "outputs": [],
   "source": [
    "# Create the parameter grid based on the results of random search \n",
    "param_grid = {\n",
    "    'bootstrap': [True],\n",
    "    'max_depth': [80, 90, 100, 110],\n",
    "    'max_features': [2, 3],\n",
    "    'min_samples_leaf': [3, 4, 5],\n",
    "    'min_samples_split': [8, 10, 12],\n",
    "    'n_estimators': [100, 200, 300, 1000]\n",
    "}\n",
    "\n",
    "# Instantiate the grid search model\n",
    "grid_search = GridSearchCV(estimator = RFmodel_new, param_grid = param_grid, cv = 3, n_jobs = -1, verbose = 2)"
   ]
  },
  {
   "cell_type": "code",
   "execution_count": 36,
   "id": "cacf712e",
   "metadata": {},
   "outputs": [
    {
     "name": "stdout",
     "output_type": "stream",
     "text": [
      "Fitting 3 folds for each of 288 candidates, totalling 864 fits\n"
     ]
    },
    {
     "data": {
      "text/plain": [
       "{'bootstrap': True,\n",
       " 'max_depth': 90,\n",
       " 'max_features': 2,\n",
       " 'min_samples_leaf': 5,\n",
       " 'min_samples_split': 12,\n",
       " 'n_estimators': 300}"
      ]
     },
     "execution_count": 36,
     "metadata": {},
     "output_type": "execute_result"
    }
   ],
   "source": [
    "# Fit the grid search to the data\n",
    "grid_search.fit(X_train_new, y_train_new)\n",
    "grid_search.best_params_"
   ]
  },
  {
   "cell_type": "code",
   "execution_count": 37,
   "id": "051ea83c",
   "metadata": {},
   "outputs": [],
   "source": [
    "#Testing new parameters\n",
    "random_forest = RandomForestClassifier(min_samples_leaf = 5, \n",
    "                                       min_samples_split = 8,   \n",
    "                                       n_estimators=100, \n",
    "                                       max_depth = 110,\n",
    "                                       max_features = 3, \n",
    "                                       bootstrap=True)\n",
    "\n",
    "random_forest.fit(X_train_new, y_train_new)\n",
    "Y_prediction = random_forest.predict(X_test_new)"
   ]
  },
  {
   "cell_type": "code",
   "execution_count": 38,
   "id": "4f15a320",
   "metadata": {},
   "outputs": [
    {
     "data": {
      "text/plain": [
       "array([[408,  36],\n",
       "       [ 94, 174]])"
      ]
     },
     "execution_count": 38,
     "metadata": {},
     "output_type": "execute_result"
    }
   ],
   "source": [
    "#Further evaluation with confusion matrix\n",
    "CF_pred = cross_val_predict(random_forest, X_train_new, y_train_new, cv=3)\n",
    "confusion_matrix(y_train_new, CF_pred)\n",
    "\n",
    "#Not-survived-predictions: 405 passengers were correctly classified as not survived (called true negatives) and 39 where wrongly classified as not survived (false positives).\n",
    "\n",
    "#Survived-predictions: 88 passengers where wrongly classified as survived (false negatives) and 180 where correctly classified as survived (true positives).\n",
    "\n"
   ]
  },
  {
   "cell_type": "code",
   "execution_count": 39,
   "id": "0cb2027a",
   "metadata": {},
   "outputs": [
    {
     "name": "stdout",
     "output_type": "stream",
     "text": [
      "Scores: [0.80555556 0.83333333 0.76056338 0.97183099 0.81690141 0.76056338\n",
      " 0.83098592 0.74647887 0.77464789 0.88732394]\n",
      "Mean: 0.8188184663536777\n",
      "Standard Deviation: 0.06528055342136262\n"
     ]
    }
   ],
   "source": [
    "#Cross validation with Random Forest\n",
    "RF_cross_val1 = cross_val_score(random_forest, X_train_new, y_train_new, cv=10, scoring = \"accuracy\")\n",
    "print(\"Scores:\", RF_cross_val1)\n",
    "print(\"Mean:\", RF_cross_val1.mean())\n",
    "print(\"Standard Deviation:\", RF_cross_val1.std())"
   ]
  },
  {
   "cell_type": "code",
   "execution_count": 40,
   "id": "a40b41ac",
   "metadata": {},
   "outputs": [
    {
     "data": {
      "image/png": "[encoded data removed]",
      "text/plain": [
       "<Figure size 1008x504 with 1 Axes>"
      ]
     },
     "metadata": {
      "needs_background": "light"
     },
     "output_type": "display_data"
    }
   ],
   "source": [
    "#ROC Curve\n",
    "\n",
    "# getting the probabilities of our predictions\n",
    "y_scores1 = random_forest.predict_proba(X_train_new)\n",
    "y_scores1 = y_scores1[:,1]\n",
    "\n",
    "# compute true positive rate and false positive rate\n",
    "false_positive_rate, true_positive_rate, thresholds = roc_curve(y_train_new, y_scores1)\n",
    "\n",
    "# plotting them against each other\n",
    "def plot_roc_curve(false_positive_rate, true_positive_rate, label=None):\n",
    "    plt.plot(false_positive_rate, true_positive_rate, linewidth=2, label=label)\n",
    "    plt.plot([0, 1], [0, 1], 'r', linewidth=4)\n",
    "    plt.axis([0, 1, 0, 1])\n",
    "    plt.xlabel('False Positive Rate (FPR)', fontsize=16)\n",
    "    plt.ylabel('True Positive Rate (TPR)', fontsize=16)\n",
    "    plt.title('ROC Curve', fontsize=30)\n",
    "\n",
    "plt.figure(figsize=(14, 7))\n",
    "plot_roc_curve(false_positive_rate, true_positive_rate)\n",
    "plt.show()"
   ]
  },
  {
   "cell_type": "code",
   "execution_count": 41,
   "id": "d1af686e",
   "metadata": {},
   "outputs": [
    {
     "name": "stdout",
     "output_type": "stream",
     "text": [
      "ROC-AUC-Score: 0.9433911523463763\n"
     ]
    }
   ],
   "source": [
    "#ROC AUC Score\n",
    "r_a_score = roc_auc_score(y_train_new, y_scores1)\n",
    "print(\"ROC-AUC-Score:\", r_a_score)\n"
   ]
  },
  {
   "cell_type": "code",
   "execution_count": 43,
   "id": "59be7e16",
   "metadata": {},
   "outputs": [],
   "source": [
    "#Comparing results to Dummy Regression\n",
    "\n",
    "# Create a dummy regressor with strategy as mean\n",
    "sb = DummyClassifier(strategy=\"most_frequent\")\n",
    "sb.fit(X_train_new, y_train_new)\n",
    "\n",
    "y_predsb = sb.predict(X_test_new)\n",
    "\n",
    "# Create a dummy regressor with strategy as constant\n",
    "sbc = DummyClassifier(strategy='constant', constant=1)\n",
    "\n",
    "# Train and evaluate dummy regressor\n",
    "sbc.fit(X_train_new, y_train_new)\n",
    "\n",
    "y_predsbc = sbc.predict(X_test_new)"
   ]
  },
  {
   "cell_type": "code",
   "execution_count": 47,
   "id": "d1d6e60c",
   "metadata": {},
   "outputs": [
    {
     "data": {
      "text/html": [
       "<div>\n",
       "<style scoped>\n",
       "    .dataframe tbody tr th:only-of-type {\n",
       "        vertical-align: middle;\n",
       "    }\n",
       "\n",
       "    .dataframe tbody tr th {\n",
       "        vertical-align: top;\n",
       "    }\n",
       "\n",
       "    .dataframe thead th {\n",
       "        text-align: right;\n",
       "    }\n",
       "</style>\n",
       "<table border=\"1\" class=\"dataframe\">\n",
       "  <thead>\n",
       "    <tr style=\"text-align: right;\">\n",
       "      <th></th>\n",
       "      <th>r^2 Score - Training</th>\n",
       "      <th>r^2 Score - Test</th>\n",
       "    </tr>\n",
       "    <tr>\n",
       "      <th>Models</th>\n",
       "      <th></th>\n",
       "      <th></th>\n",
       "    </tr>\n",
       "  </thead>\n",
       "  <tbody>\n",
       "    <tr>\n",
       "      <th>Random Forest</th>\n",
       "      <td>0.869382</td>\n",
       "      <td>0.826816</td>\n",
       "    </tr>\n",
       "    <tr>\n",
       "      <th>Baseline Model - most_frequent</th>\n",
       "      <td>0.623596</td>\n",
       "      <td>0.586592</td>\n",
       "    </tr>\n",
       "    <tr>\n",
       "      <th>Baseline Model - Constant</th>\n",
       "      <td>0.376404</td>\n",
       "      <td>0.413408</td>\n",
       "    </tr>\n",
       "  </tbody>\n",
       "</table>\n",
       "</div>"
      ],
      "text/plain": [
       "                                r^2 Score - Training  r^2 Score - Test\n",
       "Models                                                                \n",
       "Random Forest                               0.869382          0.826816\n",
       "Baseline Model - most_frequent              0.623596          0.586592\n",
       "Baseline Model - Constant                   0.376404          0.413408"
      ]
     },
     "execution_count": 47,
     "metadata": {},
     "output_type": "execute_result"
    }
   ],
   "source": [
    "#Results of Gradient Boosting Regressor model in comparison with the baseline model\n",
    "results_final = pd.DataFrame({   'Models': ['Random Forest', 'Baseline Model - most_frequent', 'Baseline Model - Constant'], \n",
    "    'r^2 Score - Training': [random_forest.score(X_train_new, y_train_new), sb.score(X_train_new, y_train_new), sbc.score(X_train_new, y_train_new)],\n",
    "    'r^2 Score - Test' : [test_data_accuracyRF, accuracy_score(y_test_new, y_predsb), accuracy_score(y_test_new, y_predsbc)]})\n",
    "\n",
    "results_final = results_final.set_index('Models')\n",
    "results_final.head()"
   ]
  },
  {
   "cell_type": "markdown",
   "id": "cffa9cc1",
   "metadata": {},
   "source": [
    "# Getting test set predictions"
   ]
  },
  {
   "cell_type": "code",
   "execution_count": 45,
   "id": "e3637d53",
   "metadata": {},
   "outputs": [],
   "source": [
    "test_pred = random_forest.predict(test_data_final)"
   ]
  },
  {
   "cell_type": "markdown",
   "id": "c1a0a456",
   "metadata": {},
   "source": [
    "# Preparing output to CSV file"
   ]
  },
  {
   "cell_type": "code",
   "execution_count": 48,
   "id": "25e8fae7",
   "metadata": {},
   "outputs": [
    {
     "name": "stdout",
     "output_type": "stream",
     "text": [
      "   PassengerId  Survived\n",
      "0          892         0\n",
      "1          893         0\n",
      "2          894         0\n",
      "3          895         0\n",
      "4          896         0\n",
      "5          897         0\n",
      "6          898         1\n",
      "7          899         0\n",
      "8          900         1\n",
      "9          901         0\n"
     ]
    }
   ],
   "source": [
    "#Preparing output for test set predictions to CSV file\n",
    "result = pd.DataFrame(testdf['PassengerId'])\n",
    "\n",
    "#Appending the Survived data\n",
    "result.insert(1, \"Survived\", test_pred, True)\n",
    "result[\"Survived\"] = pd.to_numeric(result[\"Survived\"], downcast=\"integer\")\n",
    "print(result.head(10))\n",
    "\n",
    "#Saving output as csv file\n",
    "result.to_csv(\"Zheng Yimin_titanic results.csv\", index=False)"
   ]
  },
  {
   "cell_type": "code",
   "execution_count": null,
   "id": "cf8e0607",
   "metadata": {},
   "outputs": [],
   "source": []
  }
 ],
 "metadata": {
  "kernelspec": {
   "display_name": "Python 3",
   "language": "python",
   "name": "python3"
  },
  "language_info": {
   "codemirror_mode": {
    "name": "ipython",
    "version": 3
   },
   "file_extension": ".py",
   "mimetype": "text/x-python",
   "name": "python",
   "nbconvert_exporter": "python",
   "pygments_lexer": "ipython3",
   "version": "3.8.8"
  }
 },
 "nbformat": 4,
 "nbformat_minor": 5
}
